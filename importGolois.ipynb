{
 "cells": [
  {
   "cell_type": "code",
   "execution_count": null,
   "metadata": {
    "colab": {
     "base_uri": "https://localhost:8080/"
    },
    "id": "ks7AjhAto2dV",
    "outputId": "47b5f9cf-784e-468e-d7fc-aea2d1c7742e"
   },
   "outputs": [
    {
     "name": "stdout",
     "output_type": "stream",
     "text": [
      "--2022-10-07 08:53:14--  https://www.lamsade.dauphine.fr/~cazenave/project2022.zip\n",
      "Résolution de www.lamsade.dauphine.fr (www.lamsade.dauphine.fr)… 64:ff9b::c130:47fa, 193.48.71.250\n",
      "Connexion à www.lamsade.dauphine.fr (www.lamsade.dauphine.fr)|64:ff9b::c130:47fa|:443… connecté.\n",
      "requête HTTP transmise, en attente de la réponse… 200 OK\n",
      "Taille : 138683867 (132M) [application/zip]\n",
      "Enregistre : ‘project2022.zip’\n",
      "\n",
      "project2022.zip     100%[===================>] 132,26M  94,7KB/s    ds 29m 28s \n",
      "\n",
      "2022-10-07 09:22:43 (76,6 KB/s) - ‘project2022.zip’ enregistré [138683867/138683867]\n",
      "\n",
      "Archive:  project2022.zip\n",
      "  inflating: Board.h                 \n",
      "  inflating: Game.h                  \n",
      "  inflating: Rzone.h                 \n",
      "  inflating: compile.sh              \n",
      "  inflating: compileMAC.sh           \n",
      "  inflating: games.data              \n",
      "  inflating: golois.cpp              \n",
      "  inflating: golois.cpython-37m-x86_64-linux-gnu.so  \n",
      "  inflating: golois.cpython-38-x86_64-linux-gnu.so  \n",
      "  inflating: golois.py               \n",
      "replace importGolois.ipynb? [y]es, [n]o, [A]ll, [N]one, [r]ename: "
     ]
    }
   ],
   "source": [
    "!wget https://www.lamsade.dauphine.fr/~cazenave/project2022.zip\n",
    "!unzip project2022.zip"
   ]
  },
  {
   "cell_type": "code",
   "execution_count": 6,
   "metadata": {
    "colab": {
     "base_uri": "https://localhost:8080/"
    },
    "id": "SNxDy5hTfHs_",
    "outputId": "9a7e3322-45ee-4f72-8c97-d1fbe339780d"
   },
   "outputs": [
    {
     "name": "stdout",
     "output_type": "stream",
     "text": [
      "getValidation\n"
     ]
    },
    {
     "name": "stderr",
     "output_type": "stream",
     "text": [
      "2025-01-24 22:43:46.539386: I tensorflow/core/util/port.cc:113] oneDNN custom operations are on. You may see slightly different numerical results due to floating-point round-off errors from different computation orders. To turn them off, set the environment variable `TF_ENABLE_ONEDNN_OPTS=0`.\n",
      "WARNING:tensorflow:From c:\\DEV\\M2_IASD\\Deep_Learning\\100k-go-net\\.venv\\Lib\\site-packages\\keras\\src\\losses.py:2976: The name tf.losses.sparse_softmax_cross_entropy is deprecated. Please use tf.compat.v1.losses.sparse_softmax_cross_entropy instead.\n",
      "\n",
      "Traceback (most recent call last):\n",
      "  File \"c:\\DEV\\M2_IASD\\Deep_Learning\\100k-go-net\\golois.py\", line 8, in <module>\n",
      "    import golois\n",
      "  File \"c:\\DEV\\M2_IASD\\Deep_Learning\\100k-go-net\\golois.py\", line 33, in <module>\n",
      "    golois.getValidation (input_data, policy, value, end)\n",
      "    ^^^^^^^^^^^^^^^^^^^^\n",
      "AttributeError: partially initialized module 'golois' has no attribute 'getValidation' (most likely due to a circular import)\n"
     ]
    }
   ],
   "source": [
    "!python golois.py"
   ]
  }
 ],
 "metadata": {
  "accelerator": "GPU",
  "colab": {
   "collapsed_sections": [],
   "name": "importGolois.ipynb",
   "provenance": []
  },
  "kernelspec": {
   "display_name": "Python 3 (ipykernel)",
   "language": "python",
   "name": "python3"
  },
  "language_info": {
   "codemirror_mode": {
    "name": "ipython",
    "version": 3
   },
   "file_extension": ".py",
   "mimetype": "text/x-python",
   "name": "python",
   "nbconvert_exporter": "python",
   "pygments_lexer": "ipython3",
   "version": "3.10.6"
  }
 },
 "nbformat": 4,
 "nbformat_minor": 1
}
